{
 "cells": [
  {
   "attachments": {},
   "cell_type": "markdown",
   "id": "bd104850",
   "metadata": {},
   "source": [
    "### `AirBNB Project`\n",
    "\n",
    "Develop pricing model that can effectively predict the Rent for an accommodation and can help hosts, travellers, and also the business in devising profitable strategies.\n",
    "\n",
    "### `Objective:`\n",
    "1.\tExplore and visualize the dataset.\n",
    "2.\tBuild a linear regression model to predict the log of rental price\n",
    "3.\tGenerate a set of insights and recommendations that will help the business.\n",
    "\n",
    "\n",
    "### `Datasets Information:`\n",
    "\n",
    "1. id: \tProperty ID\n",
    "2. room_type:\tType of Room in the property\n",
    "3. accommodates:\tHow many adults can this property accomodate\n",
    "4. bathrooms:\tNumber of bathrooms in the property\n",
    "5. cancellation_policy:\tCancellation policy of the property\n",
    "6. cleaning_fee:\tThis denotes whether the property's cleaning fee is included in the rent or not\n",
    "7. instant_bookable:\tIt indicates whether an instant booking facility is available or not\n",
    "8. review_scores_rating:\tThe review rating score of the property\n",
    "9. bedrooms:\tNumber of bedrooms in the property\n",
    "10. beds:\tTotal number of beds in the property\n",
    "11. log_price:\tLog of the rental price of the property for a fixed period \n",
    "\n"
   ]
  },
  {
   "cell_type": "code",
   "execution_count": null,
   "id": "c8fe0749",
   "metadata": {},
   "outputs": [],
   "source": []
  },
  {
   "cell_type": "code",
   "execution_count": null,
   "id": "8aeb03e6",
   "metadata": {},
   "outputs": [],
   "source": []
  }
 ],
 "metadata": {
  "kernelspec": {
   "display_name": "Python 3",
   "language": "python",
   "name": "python3"
  },
  "language_info": {
   "codemirror_mode": {
    "name": "ipython",
    "version": 3
   },
   "file_extension": ".py",
   "mimetype": "text/x-python",
   "name": "python",
   "nbconvert_exporter": "python",
   "pygments_lexer": "ipython3",
   "version": "3.9.4"
  }
 },
 "nbformat": 4,
 "nbformat_minor": 5
}
